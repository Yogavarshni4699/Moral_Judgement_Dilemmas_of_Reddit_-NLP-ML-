{
 "cells": [
  {
   "cell_type": "code",
   "execution_count": 1,
   "id": "aefdbd97",
   "metadata": {},
   "outputs": [],
   "source": [
    "import pandas as pd\n",
    "import os\n",
    "import glob"
   ]
  },
  {
   "cell_type": "code",
   "execution_count": 2,
   "id": "1d807c63",
   "metadata": {},
   "outputs": [
    {
     "data": {
      "text/plain": [
       "(45639, 4)"
      ]
     },
     "execution_count": 2,
     "metadata": {},
     "output_type": "execute_result"
    }
   ],
   "source": [
    "# List all .csv files in the source directory\n",
    "# source_directory = 'csv_files/Labelled/'\n",
    "source_directory = 'csv_files/Labelled_NA'\n",
    "csv_files = glob.glob(os.path.join(source_directory, '*.csv'))\n",
    "\n",
    "merged_df = pd.DataFrame()\n",
    "# Merge all the files\n",
    "for csv_file in csv_files:\n",
    "    df = pd.read_csv(csv_file)\n",
    "    merged_df = pd.concat([merged_df, df], ignore_index=True)\n",
    "\n",
    "merged_df.shape"
   ]
  },
  {
   "cell_type": "code",
   "execution_count": 5,
   "id": "961602a5",
   "metadata": {},
   "outputs": [
    {
     "data": {
      "text/plain": [
       "Index(['link_id', 'label', 'selftext', 'name'], dtype='object')"
      ]
     },
     "execution_count": 5,
     "metadata": {},
     "output_type": "execute_result"
    }
   ],
   "source": [
    "# print(merged_df.columns)\n",
    "# merged_df = merged_df.drop(columns=['link_id', 'name'])\n",
    "merged_df.rename(columns={'final_label': 'label'}, inplace=True)\n",
    "merged_df.columns"
   ]
  },
  {
   "cell_type": "code",
   "execution_count": 6,
   "id": "10e603a9",
   "metadata": {},
   "outputs": [],
   "source": [
    "merged_df.to_csv('csv_files/Labelled_NA/input.csv', index=False)"
   ]
  },
  {
   "cell_type": "raw",
   "id": "738f9f69",
   "metadata": {},
   "source": []
  }
 ],
 "metadata": {
  "kernelspec": {
   "display_name": "Python 3 (ipykernel)",
   "language": "python",
   "name": "python3"
  },
  "language_info": {
   "codemirror_mode": {
    "name": "ipython",
    "version": 3
   },
   "file_extension": ".py",
   "mimetype": "text/x-python",
   "name": "python",
   "nbconvert_exporter": "python",
   "pygments_lexer": "ipython3",
   "version": "3.11.4"
  }
 },
 "nbformat": 4,
 "nbformat_minor": 5
}
