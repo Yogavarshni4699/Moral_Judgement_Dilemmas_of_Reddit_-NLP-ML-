{
 "cells": [
  {
   "cell_type": "code",
   "execution_count": 1,
   "id": "648a40ce",
   "metadata": {},
   "outputs": [],
   "source": [
    "import pandas as pd\n",
    "import re"
   ]
  },
  {
   "cell_type": "code",
   "execution_count": 2,
   "id": "919e53bf",
   "metadata": {},
   "outputs": [],
   "source": [
    "comments_file = 'csv_files/Comments/AITA_comments_2023_12.csv'\n",
    "submissions_file = 'csv_files/Submissions/AITA_submissions_2023_12.csv'\n",
    "output_file = 'csv_files/Labelled_NA/2023_12.csv'"
   ]
  },
  {
   "cell_type": "markdown",
   "id": "96a69b39",
   "metadata": {},
   "source": [
    "# Comments - The top level comments will be used for labelling the posts dataset."
   ]
  },
  {
   "cell_type": "code",
   "execution_count": 3,
   "id": "167f6890",
   "metadata": {},
   "outputs": [
    {
     "name": "stderr",
     "output_type": "stream",
     "text": [
      "/var/folders/88/0f5f1p916w74tt58_3fz2k7m0000gn/T/ipykernel_70703/2753897053.py:1: DtypeWarning: Columns (30,51,53,56) have mixed types. Specify dtype option on import or set low_memory=False.\n",
      "  comments_df = pd.read_csv(comments_file)\n"
     ]
    },
    {
     "data": {
      "text/plain": [
       "(1248172, 72)"
      ]
     },
     "execution_count": 3,
     "metadata": {},
     "output_type": "execute_result"
    }
   ],
   "source": [
    "comments_df = pd.read_csv(comments_file)\n",
    "comments_df.shape"
   ]
  },
  {
   "cell_type": "code",
   "execution_count": 4,
   "id": "6039d415",
   "metadata": {},
   "outputs": [
    {
     "data": {
      "text/plain": [
       "Index(['permalink', 'associated_award', 'created', 'subreddit_name_prefixed',\n",
       "       'downs', 'num_reports', 'author_flair_type', 'comment_type',\n",
       "       'treatment_tags', 'score_hidden', 'author_cakeday', 'subreddit_id',\n",
       "       'parent_id', 'banned_by', 'body', 'mod_note', 'total_awards_received',\n",
       "       'gildings', 'approved_at_utc', 'can_mod_post', 'created_utc',\n",
       "       'all_awardings', '_meta', 'collapsed', 'gilded', 'locked', 'saved',\n",
       "       'ups', 'awarders', 'author_fullname', 'collapsed_reason',\n",
       "       'distinguished', 'author_flair_text', 'no_follow', 'mod_reason_by',\n",
       "       'retrieved_on', 'stickied', 'link_id', 'author_premium',\n",
       "       'top_awarded_type', 'author_flair_template_id', 'subreddit_type',\n",
       "       'author_is_blocked', 'mod_reason_title', 'replies', 'name',\n",
       "       'user_reports', 'author_flair_background_color', 'likes', 'subreddit',\n",
       "       'is_submitter', 'edited', 'id', 'removal_reason', 'controversiality',\n",
       "       'banned_at_utc', 'editable', 'can_gild', 'author',\n",
       "       'author_flair_text_color', 'archived', 'author_flair_richtext',\n",
       "       'unrepliable_reason', 'score', 'collapsed_because_crowd_control',\n",
       "       'approved_by', 'author_flair_css_class', 'collapsed_reason_code',\n",
       "       'mod_reports', 'send_replies', 'report_reasons',\n",
       "       'author_patreon_flair'],\n",
       "      dtype='object')"
      ]
     },
     "execution_count": 4,
     "metadata": {},
     "output_type": "execute_result"
    }
   ],
   "source": [
    "comments_df.columns"
   ]
  },
  {
   "cell_type": "markdown",
   "id": "a1ac0b5b",
   "metadata": {},
   "source": [
    "## Drop all columns except link_id, parent_id and body"
   ]
  },
  {
   "cell_type": "code",
   "execution_count": 5,
   "id": "5fff0a9f",
   "metadata": {},
   "outputs": [],
   "source": [
    "comments_df = comments_df[['link_id', 'parent_id', 'body']]"
   ]
  },
  {
   "cell_type": "markdown",
   "id": "fa67bd1f",
   "metadata": {},
   "source": [
    "## Filter out only the top level comments"
   ]
  },
  {
   "cell_type": "code",
   "execution_count": 6,
   "id": "fbb70dbb",
   "metadata": {},
   "outputs": [
    {
     "data": {
      "text/plain": [
       "(694569, 2)"
      ]
     },
     "execution_count": 6,
     "metadata": {},
     "output_type": "execute_result"
    }
   ],
   "source": [
    "comments_df = comments_df[comments_df['link_id'] == comments_df['parent_id']]\n",
    "# Drop the parent_id column\n",
    "comments_df = comments_df.drop(columns=['parent_id'])\n",
    "comments_df.shape"
   ]
  },
  {
   "cell_type": "code",
   "execution_count": 7,
   "id": "ced69d60",
   "metadata": {},
   "outputs": [
    {
     "data": {
      "text/plain": [
       "0    I think many people make the mistake of thinki...\n",
       "1    NTA, HOWEVER, windfalls like that could easily...\n",
       "2    Nta. Sue him. I once heard a guy sued a family...\n",
       "5     Pretty sure I read this story a month or so ago.\n",
       "8    Yta \\n\\nI live on a road where the limit is 35...\n",
       "Name: body, dtype: object"
      ]
     },
     "execution_count": 7,
     "metadata": {},
     "output_type": "execute_result"
    }
   ],
   "source": [
    "comments_df['body'].head()"
   ]
  },
  {
   "cell_type": "code",
   "execution_count": 8,
   "id": "3ee48a96",
   "metadata": {},
   "outputs": [
    {
     "data": {
      "text/plain": [
       "(635433, 2)"
      ]
     },
     "execution_count": 8,
     "metadata": {},
     "output_type": "execute_result"
    }
   ],
   "source": [
    "# Remove rows where 'body' equals '[removed]' or [deleted] or is NaN\n",
    "comments_df = comments_df[(comments_df['body'] != '[removed]') & (comments_df['body'] != '[deleted]') & (comments_df['body'].notna())]\n",
    "comments_df.shape"
   ]
  },
  {
   "cell_type": "code",
   "execution_count": 9,
   "id": "55c08e4f",
   "metadata": {},
   "outputs": [
    {
     "name": "stdout",
     "output_type": "stream",
     "text": [
      "Shape after filtering unwanted rows:\n"
     ]
    },
    {
     "data": {
      "text/plain": [
       "(581184, 2)"
      ]
     },
     "execution_count": 9,
     "metadata": {},
     "output_type": "execute_result"
    }
   ],
   "source": [
    "# Remove rows that were generated by bots\n",
    "bot_str_1 = 'I am a bot, and this action was performed automatically'\n",
    "bot_str_2 = 'Your post has been removed'\n",
    "\n",
    "comments_df = comments_df[~(comments_df['body'].str.contains(bot_str_1) | comments_df['body'].str.contains(bot_str_2))]\n",
    "print('Shape after filtering unwanted rows:')\n",
    "comments_df.shape"
   ]
  },
  {
   "cell_type": "code",
   "execution_count": 10,
   "id": "6b9d5e72",
   "metadata": {},
   "outputs": [
    {
     "data": {
      "text/plain": [
       "(572436, 2)"
      ]
     },
     "execution_count": 10,
     "metadata": {},
     "output_type": "execute_result"
    }
   ],
   "source": [
    "# Remove columns where all values are NaN\n",
    "comments_df = comments_df.loc[:, ~comments_df.isna().all(axis=0)]\n",
    "\n",
    "# Drop all duplicate columns\n",
    "comments_df.drop_duplicates(keep='first', inplace=True)\n",
    "comments_df.shape"
   ]
  },
  {
   "cell_type": "code",
   "execution_count": 11,
   "id": "4ea57008",
   "metadata": {},
   "outputs": [
    {
     "data": {
      "text/html": [
       "<div>\n",
       "<style scoped>\n",
       "    .dataframe tbody tr th:only-of-type {\n",
       "        vertical-align: middle;\n",
       "    }\n",
       "\n",
       "    .dataframe tbody tr th {\n",
       "        vertical-align: top;\n",
       "    }\n",
       "\n",
       "    .dataframe thead th {\n",
       "        text-align: right;\n",
       "    }\n",
       "</style>\n",
       "<table border=\"1\" class=\"dataframe\">\n",
       "  <thead>\n",
       "    <tr style=\"text-align: right;\">\n",
       "      <th></th>\n",
       "      <th>link_id</th>\n",
       "      <th>body</th>\n",
       "    </tr>\n",
       "  </thead>\n",
       "  <tbody>\n",
       "    <tr>\n",
       "      <th>0</th>\n",
       "      <td>t3_187qp3s</td>\n",
       "      <td>I think many people make the mistake of thinki...</td>\n",
       "    </tr>\n",
       "    <tr>\n",
       "      <th>1</th>\n",
       "      <td>t3_187pj8a</td>\n",
       "      <td>NTA, HOWEVER, windfalls like that could easily...</td>\n",
       "    </tr>\n",
       "    <tr>\n",
       "      <th>2</th>\n",
       "      <td>t3_187n1wl</td>\n",
       "      <td>Nta. Sue him. I once heard a guy sued a family...</td>\n",
       "    </tr>\n",
       "    <tr>\n",
       "      <th>5</th>\n",
       "      <td>t3_187qgh4</td>\n",
       "      <td>Pretty sure I read this story a month or so ago.</td>\n",
       "    </tr>\n",
       "    <tr>\n",
       "      <th>8</th>\n",
       "      <td>t3_187n1wl</td>\n",
       "      <td>Yta \\n\\nI live on a road where the limit is 35...</td>\n",
       "    </tr>\n",
       "  </tbody>\n",
       "</table>\n",
       "</div>"
      ],
      "text/plain": [
       "      link_id                                               body\n",
       "0  t3_187qp3s  I think many people make the mistake of thinki...\n",
       "1  t3_187pj8a  NTA, HOWEVER, windfalls like that could easily...\n",
       "2  t3_187n1wl  Nta. Sue him. I once heard a guy sued a family...\n",
       "5  t3_187qgh4   Pretty sure I read this story a month or so ago.\n",
       "8  t3_187n1wl  Yta \\n\\nI live on a road where the limit is 35..."
      ]
     },
     "execution_count": 11,
     "metadata": {},
     "output_type": "execute_result"
    }
   ],
   "source": [
    "comments_df.head()"
   ]
  },
  {
   "cell_type": "code",
   "execution_count": 12,
   "id": "7b7d0ab4",
   "metadata": {},
   "outputs": [],
   "source": [
    "def categorize_comments(data_frame):\n",
    "    # Define patterns for full word match\n",
    "    patterns = {\n",
    "#         r'\\bnta\\b|\\bywnbta\\b|\\byntah\\b|\\bynta\\b': 'ntj',\n",
    "#         r'\\byta\\b|\\byat\\b|\\byah\\b|\\bah\\b|\\bywbta\\b|\\btah\\b|\\bytah\\b': 'ytj',\n",
    "#         r'\\beah\\b|\\behs\\b|\\besh\\b|\\bnah\\b|\\binfo\\b': 'na'\n",
    "        \n",
    "        r'\\bnta\\b|\\bywnbta\\b|\\byntah\\b|\\bynta\\b|\\bnah\\b': 'ntj',\n",
    "        r'\\beah\\b|\\behs\\b|\\besh\\b|\\byta\\b|\\byat\\b|\\byah\\b|\\bah\\b|\\bywbta\\b|\\btah\\b|\\bytah\\b': 'ytj'\n",
    "#         r'\\binfo\\b': 'na'\n",
    "        \n",
    "#         r'\\bnah\\b': 'njh',\n",
    "#         r'\\binfo\\b': 'info'\n",
    "    }\n",
    "\n",
    "    # Function to assign labels\n",
    "    def assign_label(text):\n",
    "        found_labels = set()\n",
    "        for pattern, label in patterns.items():\n",
    "            if re.search(pattern, text, re.IGNORECASE):\n",
    "                found_labels.add(label)\n",
    "        # Create label strings\n",
    "        if found_labels:\n",
    "            labels_str = ', '.join(sorted(found_labels))  # Sort for consistency\n",
    "            return labels_str, 'multiple' if len(found_labels) > 1 else labels_str\n",
    "        else:\n",
    "            return 'undefined', 'undefined'\n",
    "\n",
    "    # Apply the function to the 'body' column and split the results into two new columns\n",
    "    data_frame[['labels', 'final_label']] = pd.DataFrame(data_frame['body'].apply(assign_label).tolist(), index=comments_df.index)"
   ]
  },
  {
   "cell_type": "code",
   "execution_count": 13,
   "id": "6f537d80",
   "metadata": {},
   "outputs": [
    {
     "data": {
      "text/html": [
       "<div>\n",
       "<style scoped>\n",
       "    .dataframe tbody tr th:only-of-type {\n",
       "        vertical-align: middle;\n",
       "    }\n",
       "\n",
       "    .dataframe tbody tr th {\n",
       "        vertical-align: top;\n",
       "    }\n",
       "\n",
       "    .dataframe thead th {\n",
       "        text-align: right;\n",
       "    }\n",
       "</style>\n",
       "<table border=\"1\" class=\"dataframe\">\n",
       "  <thead>\n",
       "    <tr style=\"text-align: right;\">\n",
       "      <th></th>\n",
       "      <th>body</th>\n",
       "      <th>final_label</th>\n",
       "    </tr>\n",
       "  </thead>\n",
       "  <tbody>\n",
       "    <tr>\n",
       "      <th>0</th>\n",
       "      <td>I think many people make the mistake of thinki...</td>\n",
       "      <td>undefined</td>\n",
       "    </tr>\n",
       "    <tr>\n",
       "      <th>1</th>\n",
       "      <td>NTA, HOWEVER, windfalls like that could easily...</td>\n",
       "      <td>multiple</td>\n",
       "    </tr>\n",
       "    <tr>\n",
       "      <th>2</th>\n",
       "      <td>Nta. Sue him. I once heard a guy sued a family...</td>\n",
       "      <td>ntj</td>\n",
       "    </tr>\n",
       "    <tr>\n",
       "      <th>5</th>\n",
       "      <td>Pretty sure I read this story a month or so ago.</td>\n",
       "      <td>undefined</td>\n",
       "    </tr>\n",
       "    <tr>\n",
       "      <th>8</th>\n",
       "      <td>Yta \\n\\nI live on a road where the limit is 35...</td>\n",
       "      <td>ytj</td>\n",
       "    </tr>\n",
       "  </tbody>\n",
       "</table>\n",
       "</div>"
      ],
      "text/plain": [
       "                                                body final_label\n",
       "0  I think many people make the mistake of thinki...   undefined\n",
       "1  NTA, HOWEVER, windfalls like that could easily...    multiple\n",
       "2  Nta. Sue him. I once heard a guy sued a family...         ntj\n",
       "5   Pretty sure I read this story a month or so ago.   undefined\n",
       "8  Yta \\n\\nI live on a road where the limit is 35...         ytj"
      ]
     },
     "execution_count": 13,
     "metadata": {},
     "output_type": "execute_result"
    }
   ],
   "source": [
    "categorize_comments(comments_df)\n",
    "\n",
    "# Display the updated DataFrame\n",
    "comments_df[['body', 'final_label']].head()"
   ]
  },
  {
   "cell_type": "code",
   "execution_count": 14,
   "id": "6f40d1dc",
   "metadata": {},
   "outputs": [],
   "source": [
    "# Drop body column\n",
    "comments_df = comments_df.drop(columns=['body', 'labels'])"
   ]
  },
  {
   "cell_type": "code",
   "execution_count": 15,
   "id": "aea562a6",
   "metadata": {},
   "outputs": [
    {
     "data": {
      "text/plain": [
       "ntj          277885\n",
       "ytj          144784\n",
       "undefined    137238\n",
       "multiple      12529\n",
       "Name: final_label, dtype: int64"
      ]
     },
     "execution_count": 15,
     "metadata": {},
     "output_type": "execute_result"
    }
   ],
   "source": [
    "comments_df['final_label'].value_counts()"
   ]
  },
  {
   "cell_type": "code",
   "execution_count": 16,
   "id": "fa081061",
   "metadata": {},
   "outputs": [
    {
     "data": {
      "text/plain": [
       "(422669, 2)"
      ]
     },
     "execution_count": 16,
     "metadata": {},
     "output_type": "execute_result"
    }
   ],
   "source": [
    "# Drop all rows that contain label = 'undefined' or 'multiple'\n",
    "comments_df = comments_df[(comments_df['final_label'] != 'undefined') & (comments_df['final_label'] != 'multiple')]\n",
    "comments_df.shape"
   ]
  },
  {
   "cell_type": "code",
   "execution_count": 17,
   "id": "08f89a97",
   "metadata": {},
   "outputs": [
    {
     "data": {
      "text/plain": [
       "ntj    277885\n",
       "ytj    144784\n",
       "Name: final_label, dtype: int64"
      ]
     },
     "execution_count": 17,
     "metadata": {},
     "output_type": "execute_result"
    }
   ],
   "source": [
    "# Check the number of values for each label\n",
    "comments_df['final_label'].value_counts()"
   ]
  },
  {
   "cell_type": "code",
   "execution_count": 18,
   "id": "ffe00b3e",
   "metadata": {},
   "outputs": [
    {
     "data": {
      "text/plain": [
       "t3_18ed9aq    2360\n",
       "t3_18jbjgm    2324\n",
       "t3_18mbv9j    2198\n",
       "t3_18j5z07    1924\n",
       "t3_18l7q59    1886\n",
       "              ... \n",
       "t3_18lqr53       1\n",
       "t3_18lhtdz       1\n",
       "t3_18lrgo4       1\n",
       "t3_18lrt9b       1\n",
       "t3_18uzmbf       1\n",
       "Name: link_id, Length: 15329, dtype: int64"
      ]
     },
     "execution_count": 18,
     "metadata": {},
     "output_type": "execute_result"
    }
   ],
   "source": [
    "comments_df['link_id'].value_counts()"
   ]
  },
  {
   "cell_type": "code",
   "execution_count": 19,
   "id": "882a2efe",
   "metadata": {},
   "outputs": [],
   "source": [
    "# Get the label with the maximum occurence for each submission (link_id)"
   ]
  },
  {
   "cell_type": "code",
   "execution_count": 20,
   "id": "24b7c6db",
   "metadata": {},
   "outputs": [],
   "source": [
    "# Step 1: Count occurrences of each label for each link_id\n",
    "counts = comments_df.groupby(['link_id', 'final_label']).size().reset_index(name='count')\n",
    "\n",
    "# Step 2: Find the label with the maximum count for each link_id\n",
    "# This involves sorting by 'count' and then dropping duplicates keeping the entry with the maximum count\n",
    "result_df = counts.sort_values(by=['link_id', 'count'], ascending=[True, False]).drop_duplicates(subset='link_id')\n",
    "\n",
    "# result_df now contains columns 'link_id', 'label', and 'count' where 'label' is the one with the maximum count for each link_id\n",
    "result_df = result_df.drop(columns='count')  # Optional: Drop the count column if not needed\n"
   ]
  },
  {
   "cell_type": "code",
   "execution_count": 21,
   "id": "f7b249ef",
   "metadata": {},
   "outputs": [
    {
     "data": {
      "text/html": [
       "<div>\n",
       "<style scoped>\n",
       "    .dataframe tbody tr th:only-of-type {\n",
       "        vertical-align: middle;\n",
       "    }\n",
       "\n",
       "    .dataframe tbody tr th {\n",
       "        vertical-align: top;\n",
       "    }\n",
       "\n",
       "    .dataframe thead th {\n",
       "        text-align: right;\n",
       "    }\n",
       "</style>\n",
       "<table border=\"1\" class=\"dataframe\">\n",
       "  <thead>\n",
       "    <tr style=\"text-align: right;\">\n",
       "      <th></th>\n",
       "      <th>link_id</th>\n",
       "      <th>final_label</th>\n",
       "    </tr>\n",
       "  </thead>\n",
       "  <tbody>\n",
       "    <tr>\n",
       "      <th>0</th>\n",
       "      <td>t3_142jic8</td>\n",
       "      <td>ntj</td>\n",
       "    </tr>\n",
       "    <tr>\n",
       "      <th>2</th>\n",
       "      <td>t3_143yx8q</td>\n",
       "      <td>ntj</td>\n",
       "    </tr>\n",
       "    <tr>\n",
       "      <th>3</th>\n",
       "      <td>t3_144u0s6</td>\n",
       "      <td>ntj</td>\n",
       "    </tr>\n",
       "    <tr>\n",
       "      <th>4</th>\n",
       "      <td>t3_149bfca</td>\n",
       "      <td>ntj</td>\n",
       "    </tr>\n",
       "    <tr>\n",
       "      <th>5</th>\n",
       "      <td>t3_149ssj1</td>\n",
       "      <td>ytj</td>\n",
       "    </tr>\n",
       "  </tbody>\n",
       "</table>\n",
       "</div>"
      ],
      "text/plain": [
       "      link_id final_label\n",
       "0  t3_142jic8         ntj\n",
       "2  t3_143yx8q         ntj\n",
       "3  t3_144u0s6         ntj\n",
       "4  t3_149bfca         ntj\n",
       "5  t3_149ssj1         ytj"
      ]
     },
     "execution_count": 21,
     "metadata": {},
     "output_type": "execute_result"
    }
   ],
   "source": [
    "result_df.head()"
   ]
  },
  {
   "cell_type": "code",
   "execution_count": 22,
   "id": "f3aa9f75",
   "metadata": {},
   "outputs": [
    {
     "data": {
      "text/html": [
       "<div>\n",
       "<style scoped>\n",
       "    .dataframe tbody tr th:only-of-type {\n",
       "        vertical-align: middle;\n",
       "    }\n",
       "\n",
       "    .dataframe tbody tr th {\n",
       "        vertical-align: top;\n",
       "    }\n",
       "\n",
       "    .dataframe thead th {\n",
       "        text-align: right;\n",
       "    }\n",
       "</style>\n",
       "<table border=\"1\" class=\"dataframe\">\n",
       "  <thead>\n",
       "    <tr style=\"text-align: right;\">\n",
       "      <th></th>\n",
       "      <th>link_id</th>\n",
       "      <th>final_label</th>\n",
       "    </tr>\n",
       "  </thead>\n",
       "  <tbody>\n",
       "  </tbody>\n",
       "</table>\n",
       "</div>"
      ],
      "text/plain": [
       "Empty DataFrame\n",
       "Columns: [link_id, final_label]\n",
       "Index: []"
      ]
     },
     "execution_count": 22,
     "metadata": {},
     "output_type": "execute_result"
    }
   ],
   "source": [
    "comments_df[comments_df['link_id'] == 't3_1agspp0']"
   ]
  },
  {
   "cell_type": "markdown",
   "id": "f4004078",
   "metadata": {},
   "source": [
    "# Submissions"
   ]
  },
  {
   "cell_type": "code",
   "execution_count": 23,
   "id": "7cc54223",
   "metadata": {},
   "outputs": [
    {
     "name": "stderr",
     "output_type": "stream",
     "text": [
      "/var/folders/88/0f5f1p916w74tt58_3fz2k7m0000gn/T/ipykernel_70703/479411990.py:1: DtypeWarning: Columns (73) have mixed types. Specify dtype option on import or set low_memory=False.\n",
      "  sub_df = pd.read_csv(submissions_file)\n"
     ]
    },
    {
     "data": {
      "text/plain": [
       "(32970, 111)"
      ]
     },
     "execution_count": 23,
     "metadata": {},
     "output_type": "execute_result"
    }
   ],
   "source": [
    "sub_df = pd.read_csv(submissions_file)\n",
    "sub_df.shape"
   ]
  },
  {
   "cell_type": "code",
   "execution_count": 24,
   "id": "62cd04a0",
   "metadata": {},
   "outputs": [
    {
     "data": {
      "text/html": [
       "<div>\n",
       "<style scoped>\n",
       "    .dataframe tbody tr th:only-of-type {\n",
       "        vertical-align: middle;\n",
       "    }\n",
       "\n",
       "    .dataframe tbody tr th {\n",
       "        vertical-align: top;\n",
       "    }\n",
       "\n",
       "    .dataframe thead th {\n",
       "        text-align: right;\n",
       "    }\n",
       "</style>\n",
       "<table border=\"1\" class=\"dataframe\">\n",
       "  <thead>\n",
       "    <tr style=\"text-align: right;\">\n",
       "      <th></th>\n",
       "      <th>_meta</th>\n",
       "      <th>all_awardings</th>\n",
       "      <th>allow_live_comments</th>\n",
       "      <th>approved_at_utc</th>\n",
       "      <th>approved_by</th>\n",
       "      <th>archived</th>\n",
       "      <th>author</th>\n",
       "      <th>author_flair_background_color</th>\n",
       "      <th>author_flair_css_class</th>\n",
       "      <th>author_flair_richtext</th>\n",
       "      <th>...</th>\n",
       "      <th>url</th>\n",
       "      <th>user_reports</th>\n",
       "      <th>view_count</th>\n",
       "      <th>visited</th>\n",
       "      <th>whitelist_status</th>\n",
       "      <th>wls</th>\n",
       "      <th>author_cakeday</th>\n",
       "      <th>link_flair_template_id</th>\n",
       "      <th>post_hint</th>\n",
       "      <th>preview</th>\n",
       "    </tr>\n",
       "  </thead>\n",
       "  <tbody>\n",
       "    <tr>\n",
       "      <th>0</th>\n",
       "      <td>{'retrieved_2nd_on': 1701518430}</td>\n",
       "      <td>[]</td>\n",
       "      <td>False</td>\n",
       "      <td>NaN</td>\n",
       "      <td>NaN</td>\n",
       "      <td>False</td>\n",
       "      <td>Akziong511</td>\n",
       "      <td>NaN</td>\n",
       "      <td>NaN</td>\n",
       "      <td>[]</td>\n",
       "      <td>...</td>\n",
       "      <td>https://www.reddit.com/r/AmItheAsshole/comment...</td>\n",
       "      <td>[]</td>\n",
       "      <td>NaN</td>\n",
       "      <td>False</td>\n",
       "      <td>some_ads</td>\n",
       "      <td>7</td>\n",
       "      <td>NaN</td>\n",
       "      <td>NaN</td>\n",
       "      <td>NaN</td>\n",
       "      <td>NaN</td>\n",
       "    </tr>\n",
       "    <tr>\n",
       "      <th>1</th>\n",
       "      <td>{'retrieved_2nd_on': 1701518465}</td>\n",
       "      <td>[]</td>\n",
       "      <td>False</td>\n",
       "      <td>NaN</td>\n",
       "      <td>NaN</td>\n",
       "      <td>False</td>\n",
       "      <td>AdAlternative6171</td>\n",
       "      <td>NaN</td>\n",
       "      <td>NaN</td>\n",
       "      <td>[]</td>\n",
       "      <td>...</td>\n",
       "      <td>https://www.reddit.com/r/AmItheAsshole/comment...</td>\n",
       "      <td>[]</td>\n",
       "      <td>NaN</td>\n",
       "      <td>False</td>\n",
       "      <td>some_ads</td>\n",
       "      <td>7</td>\n",
       "      <td>NaN</td>\n",
       "      <td>NaN</td>\n",
       "      <td>NaN</td>\n",
       "      <td>NaN</td>\n",
       "    </tr>\n",
       "    <tr>\n",
       "      <th>2</th>\n",
       "      <td>{'removal_type': 'moderator', 'retrieved_2nd_o...</td>\n",
       "      <td>[]</td>\n",
       "      <td>False</td>\n",
       "      <td>NaN</td>\n",
       "      <td>NaN</td>\n",
       "      <td>False</td>\n",
       "      <td>Objective_Mistake611</td>\n",
       "      <td>NaN</td>\n",
       "      <td>NaN</td>\n",
       "      <td>[]</td>\n",
       "      <td>...</td>\n",
       "      <td>https://www.reddit.com/r/AmItheAsshole/comment...</td>\n",
       "      <td>[]</td>\n",
       "      <td>NaN</td>\n",
       "      <td>False</td>\n",
       "      <td>some_ads</td>\n",
       "      <td>7</td>\n",
       "      <td>NaN</td>\n",
       "      <td>NaN</td>\n",
       "      <td>NaN</td>\n",
       "      <td>NaN</td>\n",
       "    </tr>\n",
       "    <tr>\n",
       "      <th>3</th>\n",
       "      <td>{'is_edited': True, 'retrieved_2nd_on': 170151...</td>\n",
       "      <td>[]</td>\n",
       "      <td>False</td>\n",
       "      <td>NaN</td>\n",
       "      <td>NaN</td>\n",
       "      <td>False</td>\n",
       "      <td>Soggy_Rope_</td>\n",
       "      <td>NaN</td>\n",
       "      <td>NaN</td>\n",
       "      <td>[]</td>\n",
       "      <td>...</td>\n",
       "      <td>https://www.reddit.com/r/AmItheAsshole/comment...</td>\n",
       "      <td>[]</td>\n",
       "      <td>NaN</td>\n",
       "      <td>False</td>\n",
       "      <td>some_ads</td>\n",
       "      <td>7</td>\n",
       "      <td>NaN</td>\n",
       "      <td>NaN</td>\n",
       "      <td>NaN</td>\n",
       "      <td>NaN</td>\n",
       "    </tr>\n",
       "    <tr>\n",
       "      <th>4</th>\n",
       "      <td>{'removal_type': 'moderator', 'retrieved_2nd_o...</td>\n",
       "      <td>[]</td>\n",
       "      <td>False</td>\n",
       "      <td>NaN</td>\n",
       "      <td>NaN</td>\n",
       "      <td>False</td>\n",
       "      <td>Lacy7357</td>\n",
       "      <td>NaN</td>\n",
       "      <td>NaN</td>\n",
       "      <td>[]</td>\n",
       "      <td>...</td>\n",
       "      <td>https://www.reddit.com/r/AmItheAsshole/comment...</td>\n",
       "      <td>[]</td>\n",
       "      <td>NaN</td>\n",
       "      <td>False</td>\n",
       "      <td>some_ads</td>\n",
       "      <td>7</td>\n",
       "      <td>NaN</td>\n",
       "      <td>NaN</td>\n",
       "      <td>NaN</td>\n",
       "      <td>NaN</td>\n",
       "    </tr>\n",
       "  </tbody>\n",
       "</table>\n",
       "<p>5 rows × 111 columns</p>\n",
       "</div>"
      ],
      "text/plain": [
       "                                               _meta all_awardings  \\\n",
       "0                   {'retrieved_2nd_on': 1701518430}            []   \n",
       "1                   {'retrieved_2nd_on': 1701518465}            []   \n",
       "2  {'removal_type': 'moderator', 'retrieved_2nd_o...            []   \n",
       "3  {'is_edited': True, 'retrieved_2nd_on': 170151...            []   \n",
       "4  {'removal_type': 'moderator', 'retrieved_2nd_o...            []   \n",
       "\n",
       "   allow_live_comments  approved_at_utc  approved_by  archived  \\\n",
       "0                False              NaN          NaN     False   \n",
       "1                False              NaN          NaN     False   \n",
       "2                False              NaN          NaN     False   \n",
       "3                False              NaN          NaN     False   \n",
       "4                False              NaN          NaN     False   \n",
       "\n",
       "                 author author_flair_background_color  author_flair_css_class  \\\n",
       "0            Akziong511                           NaN                     NaN   \n",
       "1     AdAlternative6171                           NaN                     NaN   \n",
       "2  Objective_Mistake611                           NaN                     NaN   \n",
       "3           Soggy_Rope_                           NaN                     NaN   \n",
       "4              Lacy7357                           NaN                     NaN   \n",
       "\n",
       "  author_flair_richtext  ...  \\\n",
       "0                    []  ...   \n",
       "1                    []  ...   \n",
       "2                    []  ...   \n",
       "3                    []  ...   \n",
       "4                    []  ...   \n",
       "\n",
       "                                                 url user_reports view_count  \\\n",
       "0  https://www.reddit.com/r/AmItheAsshole/comment...           []        NaN   \n",
       "1  https://www.reddit.com/r/AmItheAsshole/comment...           []        NaN   \n",
       "2  https://www.reddit.com/r/AmItheAsshole/comment...           []        NaN   \n",
       "3  https://www.reddit.com/r/AmItheAsshole/comment...           []        NaN   \n",
       "4  https://www.reddit.com/r/AmItheAsshole/comment...           []        NaN   \n",
       "\n",
       "  visited whitelist_status  wls  author_cakeday  link_flair_template_id  \\\n",
       "0   False         some_ads    7             NaN                     NaN   \n",
       "1   False         some_ads    7             NaN                     NaN   \n",
       "2   False         some_ads    7             NaN                     NaN   \n",
       "3   False         some_ads    7             NaN                     NaN   \n",
       "4   False         some_ads    7             NaN                     NaN   \n",
       "\n",
       "  post_hint  preview  \n",
       "0       NaN      NaN  \n",
       "1       NaN      NaN  \n",
       "2       NaN      NaN  \n",
       "3       NaN      NaN  \n",
       "4       NaN      NaN  \n",
       "\n",
       "[5 rows x 111 columns]"
      ]
     },
     "execution_count": 24,
     "metadata": {},
     "output_type": "execute_result"
    }
   ],
   "source": [
    "sub_df.head()"
   ]
  },
  {
   "cell_type": "code",
   "execution_count": 25,
   "id": "bb26a54d",
   "metadata": {},
   "outputs": [
    {
     "data": {
      "text/plain": [
       "Index(['_meta', 'all_awardings', 'allow_live_comments', 'approved_at_utc',\n",
       "       'approved_by', 'archived', 'author', 'author_flair_background_color',\n",
       "       'author_flair_css_class', 'author_flair_richtext',\n",
       "       ...\n",
       "       'url', 'user_reports', 'view_count', 'visited', 'whitelist_status',\n",
       "       'wls', 'author_cakeday', 'link_flair_template_id', 'post_hint',\n",
       "       'preview'],\n",
       "      dtype='object', length=111)"
      ]
     },
     "execution_count": 25,
     "metadata": {},
     "output_type": "execute_result"
    }
   ],
   "source": [
    "sub_df.columns"
   ]
  },
  {
   "cell_type": "markdown",
   "id": "2f4997d5",
   "metadata": {},
   "source": [
    "# Drop all columns except selftext and name (id column)"
   ]
  },
  {
   "cell_type": "code",
   "execution_count": 26,
   "id": "8f37b845",
   "metadata": {},
   "outputs": [
    {
     "data": {
      "text/plain": [
       "(32970, 2)"
      ]
     },
     "execution_count": 26,
     "metadata": {},
     "output_type": "execute_result"
    }
   ],
   "source": [
    "sub_df = sub_df[['selftext', 'name']]\n",
    "sub_df.shape"
   ]
  },
  {
   "cell_type": "code",
   "execution_count": 27,
   "id": "ad69549d",
   "metadata": {},
   "outputs": [
    {
     "data": {
      "text/plain": [
       "(15329, 4)"
      ]
     },
     "execution_count": 27,
     "metadata": {},
     "output_type": "execute_result"
    }
   ],
   "source": [
    "sub_df = pd.merge(result_df, sub_df, how='left', left_on='link_id', right_on='name')\n",
    "sub_df.shape"
   ]
  },
  {
   "cell_type": "code",
   "execution_count": 28,
   "id": "d6c5cc03",
   "metadata": {},
   "outputs": [
    {
     "data": {
      "text/plain": [
       "(10626, 4)"
      ]
     },
     "execution_count": 28,
     "metadata": {},
     "output_type": "execute_result"
    }
   ],
   "source": [
    "# Remove rows where 'body' equals '[removed]' or [deleted] or is NaN\n",
    "sub_df = sub_df[(sub_df['selftext'] != '[removed]') & (sub_df['selftext'] != '[deleted]') & (sub_df['selftext'].notna())]\n",
    "sub_df.shape"
   ]
  },
  {
   "cell_type": "code",
   "execution_count": 29,
   "id": "00b97ccb",
   "metadata": {},
   "outputs": [
    {
     "data": {
      "text/plain": [
       "(10626, 4)"
      ]
     },
     "execution_count": 29,
     "metadata": {},
     "output_type": "execute_result"
    }
   ],
   "source": [
    "sub_df.shape"
   ]
  },
  {
   "cell_type": "code",
   "execution_count": 30,
   "id": "e1c73ccd",
   "metadata": {},
   "outputs": [
    {
     "data": {
      "text/html": [
       "<div>\n",
       "<style scoped>\n",
       "    .dataframe tbody tr th:only-of-type {\n",
       "        vertical-align: middle;\n",
       "    }\n",
       "\n",
       "    .dataframe tbody tr th {\n",
       "        vertical-align: top;\n",
       "    }\n",
       "\n",
       "    .dataframe thead th {\n",
       "        text-align: right;\n",
       "    }\n",
       "</style>\n",
       "<table border=\"1\" class=\"dataframe\">\n",
       "  <thead>\n",
       "    <tr style=\"text-align: right;\">\n",
       "      <th></th>\n",
       "      <th>link_id</th>\n",
       "      <th>final_label</th>\n",
       "      <th>selftext</th>\n",
       "      <th>name</th>\n",
       "    </tr>\n",
       "  </thead>\n",
       "  <tbody>\n",
       "    <tr>\n",
       "      <th>655</th>\n",
       "      <td>t3_187xeed</td>\n",
       "      <td>ytj</td>\n",
       "      <td>I have never been on here asking for help befo...</td>\n",
       "      <td>t3_187xeed</td>\n",
       "    </tr>\n",
       "    <tr>\n",
       "      <th>656</th>\n",
       "      <td>t3_187xeha</td>\n",
       "      <td>ytj</td>\n",
       "      <td>While mv girlfriend 29F was working in Montrea...</td>\n",
       "      <td>t3_187xeha</td>\n",
       "    </tr>\n",
       "    <tr>\n",
       "      <th>657</th>\n",
       "      <td>t3_187xh0d</td>\n",
       "      <td>ntj</td>\n",
       "      <td>I'm the most junior member of a small team (bo...</td>\n",
       "      <td>t3_187xh0d</td>\n",
       "    </tr>\n",
       "    <tr>\n",
       "      <th>658</th>\n",
       "      <td>t3_187xmox</td>\n",
       "      <td>ntj</td>\n",
       "      <td>We lived in 4 single bedroom dorm, my roommate...</td>\n",
       "      <td>t3_187xmox</td>\n",
       "    </tr>\n",
       "    <tr>\n",
       "      <th>659</th>\n",
       "      <td>t3_187xooh</td>\n",
       "      <td>ntj</td>\n",
       "      <td>So I’m a bit of a mess. Due to my mental healt...</td>\n",
       "      <td>t3_187xooh</td>\n",
       "    </tr>\n",
       "  </tbody>\n",
       "</table>\n",
       "</div>"
      ],
      "text/plain": [
       "        link_id final_label  \\\n",
       "655  t3_187xeed         ytj   \n",
       "656  t3_187xeha         ytj   \n",
       "657  t3_187xh0d         ntj   \n",
       "658  t3_187xmox         ntj   \n",
       "659  t3_187xooh         ntj   \n",
       "\n",
       "                                              selftext        name  \n",
       "655  I have never been on here asking for help befo...  t3_187xeed  \n",
       "656  While mv girlfriend 29F was working in Montrea...  t3_187xeha  \n",
       "657  I'm the most junior member of a small team (bo...  t3_187xh0d  \n",
       "658  We lived in 4 single bedroom dorm, my roommate...  t3_187xmox  \n",
       "659  So I’m a bit of a mess. Due to my mental healt...  t3_187xooh  "
      ]
     },
     "execution_count": 30,
     "metadata": {},
     "output_type": "execute_result"
    }
   ],
   "source": [
    "sub_df.head()"
   ]
  },
  {
   "cell_type": "markdown",
   "id": "5b0e38b9",
   "metadata": {},
   "source": [
    "# Save Labelled File"
   ]
  },
  {
   "cell_type": "code",
   "execution_count": 31,
   "id": "1817752f",
   "metadata": {},
   "outputs": [],
   "source": [
    "sub_df.to_csv(output_file, index=False)"
   ]
  },
  {
   "cell_type": "code",
   "execution_count": null,
   "id": "ea9f265f",
   "metadata": {},
   "outputs": [],
   "source": []
  }
 ],
 "metadata": {
  "kernelspec": {
   "display_name": "Python 3 (ipykernel)",
   "language": "python",
   "name": "python3"
  },
  "language_info": {
   "codemirror_mode": {
    "name": "ipython",
    "version": 3
   },
   "file_extension": ".py",
   "mimetype": "text/x-python",
   "name": "python",
   "nbconvert_exporter": "python",
   "pygments_lexer": "ipython3",
   "version": "3.11.4"
  }
 },
 "nbformat": 4,
 "nbformat_minor": 5
}
