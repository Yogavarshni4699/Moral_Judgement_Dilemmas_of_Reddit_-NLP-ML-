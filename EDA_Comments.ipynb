{
 "cells": [
  {
   "cell_type": "code",
   "execution_count": 4,
   "metadata": {},
   "outputs": [
    {
     "data": {
      "text/html": [
       "<div>\n",
       "<style scoped>\n",
       "    .dataframe tbody tr th:only-of-type {\n",
       "        vertical-align: middle;\n",
       "    }\n",
       "\n",
       "    .dataframe tbody tr th {\n",
       "        vertical-align: top;\n",
       "    }\n",
       "\n",
       "    .dataframe thead th {\n",
       "        text-align: right;\n",
       "    }\n",
       "</style>\n",
       "<table border=\"1\" class=\"dataframe\">\n",
       "  <thead>\n",
       "    <tr style=\"text-align: right;\">\n",
       "      <th></th>\n",
       "      <th>permalink</th>\n",
       "      <th>associated_award</th>\n",
       "      <th>created</th>\n",
       "      <th>subreddit_name_prefixed</th>\n",
       "      <th>downs</th>\n",
       "      <th>num_reports</th>\n",
       "      <th>author_flair_type</th>\n",
       "      <th>comment_type</th>\n",
       "      <th>treatment_tags</th>\n",
       "      <th>score_hidden</th>\n",
       "      <th>...</th>\n",
       "      <th>unrepliable_reason</th>\n",
       "      <th>score</th>\n",
       "      <th>collapsed_because_crowd_control</th>\n",
       "      <th>approved_by</th>\n",
       "      <th>author_flair_css_class</th>\n",
       "      <th>collapsed_reason_code</th>\n",
       "      <th>mod_reports</th>\n",
       "      <th>send_replies</th>\n",
       "      <th>report_reasons</th>\n",
       "      <th>author_patreon_flair</th>\n",
       "    </tr>\n",
       "  </thead>\n",
       "  <tbody>\n",
       "    <tr>\n",
       "      <th>0</th>\n",
       "      <td>/r/AmItheAsshole/comments/187qp3s/aitah_for_po...</td>\n",
       "      <td>NaN</td>\n",
       "      <td>1701388803</td>\n",
       "      <td>r/AmItheAsshole</td>\n",
       "      <td>0</td>\n",
       "      <td>NaN</td>\n",
       "      <td>text</td>\n",
       "      <td>NaN</td>\n",
       "      <td>[]</td>\n",
       "      <td>False</td>\n",
       "      <td>...</td>\n",
       "      <td>NaN</td>\n",
       "      <td>10</td>\n",
       "      <td>NaN</td>\n",
       "      <td>NaN</td>\n",
       "      <td>NaN</td>\n",
       "      <td>NaN</td>\n",
       "      <td>[]</td>\n",
       "      <td>True</td>\n",
       "      <td>NaN</td>\n",
       "      <td>False</td>\n",
       "    </tr>\n",
       "    <tr>\n",
       "      <th>1</th>\n",
       "      <td>/r/AmItheAsshole/comments/187pj8a/aita_for_tel...</td>\n",
       "      <td>NaN</td>\n",
       "      <td>1701388805</td>\n",
       "      <td>r/AmItheAsshole</td>\n",
       "      <td>0</td>\n",
       "      <td>NaN</td>\n",
       "      <td>text</td>\n",
       "      <td>NaN</td>\n",
       "      <td>[]</td>\n",
       "      <td>False</td>\n",
       "      <td>...</td>\n",
       "      <td>NaN</td>\n",
       "      <td>1</td>\n",
       "      <td>NaN</td>\n",
       "      <td>NaN</td>\n",
       "      <td>NaN</td>\n",
       "      <td>NaN</td>\n",
       "      <td>[]</td>\n",
       "      <td>True</td>\n",
       "      <td>NaN</td>\n",
       "      <td>False</td>\n",
       "    </tr>\n",
       "    <tr>\n",
       "      <th>2</th>\n",
       "      <td>/r/AmItheAsshole/comments/187n1wl/aita_for_wan...</td>\n",
       "      <td>NaN</td>\n",
       "      <td>1701388807</td>\n",
       "      <td>r/AmItheAsshole</td>\n",
       "      <td>0</td>\n",
       "      <td>NaN</td>\n",
       "      <td>text</td>\n",
       "      <td>NaN</td>\n",
       "      <td>[]</td>\n",
       "      <td>False</td>\n",
       "      <td>...</td>\n",
       "      <td>NaN</td>\n",
       "      <td>1</td>\n",
       "      <td>NaN</td>\n",
       "      <td>NaN</td>\n",
       "      <td>NaN</td>\n",
       "      <td>NaN</td>\n",
       "      <td>[]</td>\n",
       "      <td>True</td>\n",
       "      <td>NaN</td>\n",
       "      <td>False</td>\n",
       "    </tr>\n",
       "    <tr>\n",
       "      <th>3</th>\n",
       "      <td>/r/AmItheAsshole/comments/187n1wl/aita_for_wan...</td>\n",
       "      <td>NaN</td>\n",
       "      <td>1701388808</td>\n",
       "      <td>r/AmItheAsshole</td>\n",
       "      <td>0</td>\n",
       "      <td>NaN</td>\n",
       "      <td>text</td>\n",
       "      <td>NaN</td>\n",
       "      <td>[]</td>\n",
       "      <td>False</td>\n",
       "      <td>...</td>\n",
       "      <td>NaN</td>\n",
       "      <td>4</td>\n",
       "      <td>NaN</td>\n",
       "      <td>NaN</td>\n",
       "      <td>NaN</td>\n",
       "      <td>NaN</td>\n",
       "      <td>[]</td>\n",
       "      <td>True</td>\n",
       "      <td>NaN</td>\n",
       "      <td>False</td>\n",
       "    </tr>\n",
       "    <tr>\n",
       "      <th>4</th>\n",
       "      <td>/r/AmItheAsshole/comments/187qgh4/aita_for_tel...</td>\n",
       "      <td>NaN</td>\n",
       "      <td>1701388810</td>\n",
       "      <td>r/AmItheAsshole</td>\n",
       "      <td>0</td>\n",
       "      <td>NaN</td>\n",
       "      <td>text</td>\n",
       "      <td>NaN</td>\n",
       "      <td>[]</td>\n",
       "      <td>False</td>\n",
       "      <td>...</td>\n",
       "      <td>NaN</td>\n",
       "      <td>6</td>\n",
       "      <td>NaN</td>\n",
       "      <td>NaN</td>\n",
       "      <td>NaN</td>\n",
       "      <td>NaN</td>\n",
       "      <td>[]</td>\n",
       "      <td>True</td>\n",
       "      <td>NaN</td>\n",
       "      <td>False</td>\n",
       "    </tr>\n",
       "  </tbody>\n",
       "</table>\n",
       "<p>5 rows × 72 columns</p>\n",
       "</div>"
      ],
      "text/plain": [
       "                                           permalink  associated_award  \\\n",
       "0  /r/AmItheAsshole/comments/187qp3s/aitah_for_po...               NaN   \n",
       "1  /r/AmItheAsshole/comments/187pj8a/aita_for_tel...               NaN   \n",
       "2  /r/AmItheAsshole/comments/187n1wl/aita_for_wan...               NaN   \n",
       "3  /r/AmItheAsshole/comments/187n1wl/aita_for_wan...               NaN   \n",
       "4  /r/AmItheAsshole/comments/187qgh4/aita_for_tel...               NaN   \n",
       "\n",
       "      created subreddit_name_prefixed  downs  num_reports author_flair_type  \\\n",
       "0  1701388803         r/AmItheAsshole      0          NaN              text   \n",
       "1  1701388805         r/AmItheAsshole      0          NaN              text   \n",
       "2  1701388807         r/AmItheAsshole      0          NaN              text   \n",
       "3  1701388808         r/AmItheAsshole      0          NaN              text   \n",
       "4  1701388810         r/AmItheAsshole      0          NaN              text   \n",
       "\n",
       "   comment_type treatment_tags  score_hidden  ...  unrepliable_reason score  \\\n",
       "0           NaN             []         False  ...                 NaN    10   \n",
       "1           NaN             []         False  ...                 NaN     1   \n",
       "2           NaN             []         False  ...                 NaN     1   \n",
       "3           NaN             []         False  ...                 NaN     4   \n",
       "4           NaN             []         False  ...                 NaN     6   \n",
       "\n",
       "  collapsed_because_crowd_control  approved_by author_flair_css_class  \\\n",
       "0                             NaN          NaN                    NaN   \n",
       "1                             NaN          NaN                    NaN   \n",
       "2                             NaN          NaN                    NaN   \n",
       "3                             NaN          NaN                    NaN   \n",
       "4                             NaN          NaN                    NaN   \n",
       "\n",
       "   collapsed_reason_code  mod_reports send_replies  report_reasons  \\\n",
       "0                    NaN           []         True             NaN   \n",
       "1                    NaN           []         True             NaN   \n",
       "2                    NaN           []         True             NaN   \n",
       "3                    NaN           []         True             NaN   \n",
       "4                    NaN           []         True             NaN   \n",
       "\n",
       "   author_patreon_flair  \n",
       "0                 False  \n",
       "1                 False  \n",
       "2                 False  \n",
       "3                 False  \n",
       "4                 False  \n",
       "\n",
       "[5 rows x 72 columns]"
      ]
     },
     "execution_count": 4,
     "metadata": {},
     "output_type": "execute_result"
    }
   ],
   "source": [
    "import pandas as pd\n",
    "import pandas as pd\n",
    "import matplotlib.pyplot as plt\n",
    "import seaborn as sns\n",
    "from nltk.corpus import stopwords\n",
    "from nltk import FreqDist\n",
    "\n",
    "df=pd.read_csv(\"C:\\\\Users\\\\Yogavarshni\\\\OneDrive\\\\Attachments\\\\Documents\\\\2nd_sem\\\\ML\\\\AITA_combinedcsv\\\\AITA_combined_comments.csv\",nrows=20)\n",
    "df.head(5)    "
   ]
  },
  {
   "cell_type": "code",
   "execution_count": 5,
   "metadata": {},
   "outputs": [
    {
     "data": {
      "text/html": [
       "<div>\n",
       "<style scoped>\n",
       "    .dataframe tbody tr th:only-of-type {\n",
       "        vertical-align: middle;\n",
       "    }\n",
       "\n",
       "    .dataframe tbody tr th {\n",
       "        vertical-align: top;\n",
       "    }\n",
       "\n",
       "    .dataframe thead th {\n",
       "        text-align: right;\n",
       "    }\n",
       "</style>\n",
       "<table border=\"1\" class=\"dataframe\">\n",
       "  <thead>\n",
       "    <tr style=\"text-align: right;\">\n",
       "      <th></th>\n",
       "      <th>parent_id</th>\n",
       "      <th>body</th>\n",
       "      <th>ups</th>\n",
       "      <th>link_id</th>\n",
       "      <th>score</th>\n",
       "    </tr>\n",
       "  </thead>\n",
       "  <tbody>\n",
       "    <tr>\n",
       "      <th>0</th>\n",
       "      <td>t3_187qp3s</td>\n",
       "      <td>I think many people make the mistake of thinki...</td>\n",
       "      <td>10</td>\n",
       "      <td>t3_187qp3s</td>\n",
       "      <td>10</td>\n",
       "    </tr>\n",
       "    <tr>\n",
       "      <th>1</th>\n",
       "      <td>t3_187pj8a</td>\n",
       "      <td>NTA, HOWEVER, windfalls like that could easily...</td>\n",
       "      <td>1</td>\n",
       "      <td>t3_187pj8a</td>\n",
       "      <td>1</td>\n",
       "    </tr>\n",
       "    <tr>\n",
       "      <th>2</th>\n",
       "      <td>t3_187n1wl</td>\n",
       "      <td>Nta. Sue him. I once heard a guy sued a family...</td>\n",
       "      <td>1</td>\n",
       "      <td>t3_187n1wl</td>\n",
       "      <td>1</td>\n",
       "    </tr>\n",
       "    <tr>\n",
       "      <th>3</th>\n",
       "      <td>t1_kbfg5rz</td>\n",
       "      <td>How is it not his fault for hitting something ...</td>\n",
       "      <td>4</td>\n",
       "      <td>t3_187n1wl</td>\n",
       "      <td>4</td>\n",
       "    </tr>\n",
       "    <tr>\n",
       "      <th>4</th>\n",
       "      <td>t1_kbgijgp</td>\n",
       "      <td>It’s far more likely they’re in their 50s-60s</td>\n",
       "      <td>6</td>\n",
       "      <td>t3_187qgh4</td>\n",
       "      <td>6</td>\n",
       "    </tr>\n",
       "  </tbody>\n",
       "</table>\n",
       "</div>"
      ],
      "text/plain": [
       "    parent_id                                               body  ups  \\\n",
       "0  t3_187qp3s  I think many people make the mistake of thinki...   10   \n",
       "1  t3_187pj8a  NTA, HOWEVER, windfalls like that could easily...    1   \n",
       "2  t3_187n1wl  Nta. Sue him. I once heard a guy sued a family...    1   \n",
       "3  t1_kbfg5rz  How is it not his fault for hitting something ...    4   \n",
       "4  t1_kbgijgp      It’s far more likely they’re in their 50s-60s    6   \n",
       "\n",
       "      link_id  score  \n",
       "0  t3_187qp3s     10  \n",
       "1  t3_187pj8a      1  \n",
       "2  t3_187n1wl      1  \n",
       "3  t3_187n1wl      4  \n",
       "4  t3_187qgh4      6  "
      ]
     },
     "execution_count": 5,
     "metadata": {},
     "output_type": "execute_result"
    }
   ],
   "source": [
    "import pandas as pd\n",
    "\n",
    "# Read the CSV file with only the specified columns\n",
    "df = pd.read_csv(\"C:\\\\Users\\\\Yogavarshni\\\\OneDrive\\\\Attachments\\\\Documents\\\\2nd_sem\\\\ML\\\\AITA_combinedcsv\\\\AITA_combined_comments_original.csv\", header=0)\n",
    "df.head(5)"
   ]
  },
  {
   "cell_type": "code",
   "execution_count": 6,
   "metadata": {},
   "outputs": [
    {
     "data": {
      "text/html": [
       "<div>\n",
       "<style scoped>\n",
       "    .dataframe tbody tr th:only-of-type {\n",
       "        vertical-align: middle;\n",
       "    }\n",
       "\n",
       "    .dataframe tbody tr th {\n",
       "        vertical-align: top;\n",
       "    }\n",
       "\n",
       "    .dataframe thead th {\n",
       "        text-align: right;\n",
       "    }\n",
       "</style>\n",
       "<table border=\"1\" class=\"dataframe\">\n",
       "  <thead>\n",
       "    <tr style=\"text-align: right;\">\n",
       "      <th></th>\n",
       "      <th>parent_id</th>\n",
       "      <th>body</th>\n",
       "      <th>ups</th>\n",
       "      <th>link_id</th>\n",
       "      <th>score</th>\n",
       "    </tr>\n",
       "  </thead>\n",
       "  <tbody>\n",
       "    <tr>\n",
       "      <th>0</th>\n",
       "      <td>t3_187qp3s</td>\n",
       "      <td>I think many people make the mistake of thinki...</td>\n",
       "      <td>10</td>\n",
       "      <td>t3_187qp3s</td>\n",
       "      <td>10</td>\n",
       "    </tr>\n",
       "    <tr>\n",
       "      <th>1</th>\n",
       "      <td>t3_187pj8a</td>\n",
       "      <td>NTA, HOWEVER, windfalls like that could easily...</td>\n",
       "      <td>1</td>\n",
       "      <td>t3_187pj8a</td>\n",
       "      <td>1</td>\n",
       "    </tr>\n",
       "    <tr>\n",
       "      <th>2</th>\n",
       "      <td>t3_187n1wl</td>\n",
       "      <td>Nta. Sue him. I once heard a guy sued a family...</td>\n",
       "      <td>1</td>\n",
       "      <td>t3_187n1wl</td>\n",
       "      <td>1</td>\n",
       "    </tr>\n",
       "    <tr>\n",
       "      <th>5</th>\n",
       "      <td>t3_187qgh4</td>\n",
       "      <td>Pretty sure I read this story a month or so ago.</td>\n",
       "      <td>1</td>\n",
       "      <td>t3_187qgh4</td>\n",
       "      <td>1</td>\n",
       "    </tr>\n",
       "    <tr>\n",
       "      <th>8</th>\n",
       "      <td>t3_187n1wl</td>\n",
       "      <td>Yta \\n\\nI live on a road where the limit is 35...</td>\n",
       "      <td>-2</td>\n",
       "      <td>t3_187n1wl</td>\n",
       "      <td>-2</td>\n",
       "    </tr>\n",
       "  </tbody>\n",
       "</table>\n",
       "</div>"
      ],
      "text/plain": [
       "    parent_id                                               body  ups  \\\n",
       "0  t3_187qp3s  I think many people make the mistake of thinki...   10   \n",
       "1  t3_187pj8a  NTA, HOWEVER, windfalls like that could easily...    1   \n",
       "2  t3_187n1wl  Nta. Sue him. I once heard a guy sued a family...    1   \n",
       "5  t3_187qgh4   Pretty sure I read this story a month or so ago.    1   \n",
       "8  t3_187n1wl  Yta \\n\\nI live on a road where the limit is 35...   -2   \n",
       "\n",
       "      link_id  score  \n",
       "0  t3_187qp3s     10  \n",
       "1  t3_187pj8a      1  \n",
       "2  t3_187n1wl      1  \n",
       "5  t3_187qgh4      1  \n",
       "8  t3_187n1wl     -2  "
      ]
     },
     "execution_count": 6,
     "metadata": {},
     "output_type": "execute_result"
    }
   ],
   "source": [
    "# Filter the DataFrame to keep only rows where 'parent_id' equals 'link_id'\n",
    "filtered_df = df[df['parent_id'] == df['link_id']]\n",
    "filtered_df.head(5)"
   ]
  },
  {
   "cell_type": "code",
   "execution_count": 7,
   "metadata": {},
   "outputs": [
    {
     "data": {
      "text/plain": [
       "(1048573, 5)"
      ]
     },
     "execution_count": 7,
     "metadata": {},
     "output_type": "execute_result"
    }
   ],
   "source": [
    "df.shape"
   ]
  },
  {
   "cell_type": "code",
   "execution_count": 8,
   "metadata": {},
   "outputs": [
    {
     "data": {
      "text/plain": [
       "(575247, 5)"
      ]
     },
     "execution_count": 8,
     "metadata": {},
     "output_type": "execute_result"
    }
   ],
   "source": [
    "filtered_df.shape"
   ]
  },
  {
   "cell_type": "code",
   "execution_count": 9,
   "metadata": {},
   "outputs": [
    {
     "data": {
      "text/plain": [
       "parent_id    0\n",
       "body         0\n",
       "ups          0\n",
       "link_id      0\n",
       "score        0\n",
       "dtype: int64"
      ]
     },
     "execution_count": 9,
     "metadata": {},
     "output_type": "execute_result"
    }
   ],
   "source": [
    "# Check for null values\n",
    "null_values = filtered_df.isnull().sum()\n",
    "null_values"
   ]
  },
  {
   "cell_type": "code",
   "execution_count": 10,
   "metadata": {},
   "outputs": [
    {
     "data": {
      "text/html": [
       "<div>\n",
       "<style scoped>\n",
       "    .dataframe tbody tr th:only-of-type {\n",
       "        vertical-align: middle;\n",
       "    }\n",
       "\n",
       "    .dataframe tbody tr th {\n",
       "        vertical-align: top;\n",
       "    }\n",
       "\n",
       "    .dataframe thead th {\n",
       "        text-align: right;\n",
       "    }\n",
       "</style>\n",
       "<table border=\"1\" class=\"dataframe\">\n",
       "  <thead>\n",
       "    <tr style=\"text-align: right;\">\n",
       "      <th></th>\n",
       "      <th>ups</th>\n",
       "      <th>score</th>\n",
       "    </tr>\n",
       "  </thead>\n",
       "  <tbody>\n",
       "    <tr>\n",
       "      <th>count</th>\n",
       "      <td>575247.000000</td>\n",
       "      <td>575247.000000</td>\n",
       "    </tr>\n",
       "    <tr>\n",
       "      <th>mean</th>\n",
       "      <td>17.360369</td>\n",
       "      <td>17.360369</td>\n",
       "    </tr>\n",
       "    <tr>\n",
       "      <th>std</th>\n",
       "      <td>260.932688</td>\n",
       "      <td>260.932688</td>\n",
       "    </tr>\n",
       "    <tr>\n",
       "      <th>min</th>\n",
       "      <td>-1118.000000</td>\n",
       "      <td>-1118.000000</td>\n",
       "    </tr>\n",
       "    <tr>\n",
       "      <th>25%</th>\n",
       "      <td>1.000000</td>\n",
       "      <td>1.000000</td>\n",
       "    </tr>\n",
       "    <tr>\n",
       "      <th>50%</th>\n",
       "      <td>1.000000</td>\n",
       "      <td>1.000000</td>\n",
       "    </tr>\n",
       "    <tr>\n",
       "      <th>75%</th>\n",
       "      <td>2.000000</td>\n",
       "      <td>2.000000</td>\n",
       "    </tr>\n",
       "    <tr>\n",
       "      <th>max</th>\n",
       "      <td>33133.000000</td>\n",
       "      <td>33133.000000</td>\n",
       "    </tr>\n",
       "  </tbody>\n",
       "</table>\n",
       "</div>"
      ],
      "text/plain": [
       "                 ups          score\n",
       "count  575247.000000  575247.000000\n",
       "mean       17.360369      17.360369\n",
       "std       260.932688     260.932688\n",
       "min     -1118.000000   -1118.000000\n",
       "25%         1.000000       1.000000\n",
       "50%         1.000000       1.000000\n",
       "75%         2.000000       2.000000\n",
       "max     33133.000000   33133.000000"
      ]
     },
     "execution_count": 10,
     "metadata": {},
     "output_type": "execute_result"
    }
   ],
   "source": [
    "filtered_df.describe()"
   ]
  },
  {
   "cell_type": "code",
   "execution_count": 11,
   "metadata": {},
   "outputs": [
    {
     "name": "stdout",
     "output_type": "stream",
     "text": [
      "         char_count    word_count\n",
      "count  1.048573e+06  1.048573e+06\n",
      "mean   3.107005e+02  5.548874e+01\n",
      "std    4.237533e+02  7.403558e+01\n",
      "min    1.000000e+00  1.000000e+00\n",
      "25%    7.800000e+01  1.500000e+01\n",
      "50%    1.780000e+02  3.300000e+01\n",
      "75%    3.690000e+02  6.800000e+01\n",
      "max    8.599000e+03  1.847000e+03\n"
     ]
    }
   ],
   "source": [
    "# Adding new columns for text length\n",
    "df['char_count'] = df['body'].apply(len)\n",
    "df['word_count'] = df['body'].apply(lambda x: len(x.split()))\n",
    "\n",
    "# Display basic statistics\n",
    "print(df[['char_count', 'word_count']].describe())"
   ]
  },
  {
   "cell_type": "code",
   "execution_count": 12,
   "metadata": {},
   "outputs": [
    {
     "name": "stdout",
     "output_type": "stream",
     "text": [
      "[('to', 1853581), ('the', 1617484), ('and', 1422909), ('a', 1293135), ('you', 1070167), ('I', 980808), ('is', 783087), ('of', 774773), ('your', 698239), ('that', 662600)]\n"
     ]
    }
   ],
   "source": [
    "# Tokenize words and calculate frequency\n",
    "all_words = ' '.join(df['body']).split()\n",
    "freq_dist = FreqDist(all_words)\n",
    "\n",
    "# Display the most common words\n",
    "print(freq_dist.most_common(10))"
   ]
  },
  {
   "cell_type": "code",
   "execution_count": 13,
   "metadata": {},
   "outputs": [
    {
     "name": "stdout",
     "output_type": "stream",
     "text": [
      "Number of unique words: 597899\n"
     ]
    }
   ],
   "source": [
    "# Set of unique words\n",
    "unique_words = set(all_words)\n",
    "print(f\"Number of unique words: {len(unique_words)}\")"
   ]
  },
  {
   "cell_type": "code",
   "execution_count": 14,
   "metadata": {},
   "outputs": [
    {
     "data": {
      "image/png": "[encoded data removed]",
      "text/plain": [
       "<Figure size 432x288 with 1 Axes>"
      ]
     },
     "metadata": {
      "needs_background": "light"
     },
     "output_type": "display_data"
    },
    {
     "data": {
      "image/png": "[encoded data removed]",
      "text/plain": [
       "<Figure size 432x288 with 1 Axes>"
      ]
     },
     "metadata": {
      "needs_background": "light"
     },
     "output_type": "display_data"
    }
   ],
   "source": [
    "# Histogram of word counts\n",
    "sns.histplot(df['word_count'], bins=30, kde=True)\n",
    "plt.title('Word Count Distribution')\n",
    "plt.show()\n",
    "\n",
    "# Histogram of character counts\n",
    "sns.histplot(df['char_count'], bins=30, kde=True)\n",
    "plt.title('Character Count Distribution')\n",
    "plt.show()"
   ]
  },
  {
   "cell_type": "code",
   "execution_count": 15,
   "metadata": {},
   "outputs": [
    {
     "name": "stderr",
     "output_type": "stream",
     "text": [
      "[nltk_data] Downloading package stopwords to\n",
      "[nltk_data]     C:\\Users\\Yogavarshni\\AppData\\Roaming\\nltk_data...\n",
      "[nltk_data]   Package stopwords is already up-to-date!\n"
     ]
    },
    {
     "data": {
      "text/plain": [
       "True"
      ]
     },
     "execution_count": 15,
     "metadata": {},
     "output_type": "execute_result"
    }
   ],
   "source": [
    "import nltk\n",
    "from nltk.corpus import stopwords\n",
    "from nltk import FreqDist\n",
    "#from wordcloud import WordCloud\n",
    "import matplotlib.pyplot as plt\n",
    "nltk.download('stopwords')"
   ]
  },
  {
   "cell_type": "code",
   "execution_count": 16,
   "metadata": {},
   "outputs": [
    {
     "name": "stdout",
     "output_type": "stream",
     "text": [
      "Average number of stop words: 27.5654389346283\n"
     ]
    }
   ],
   "source": [
    "# Assuming English language\n",
    "stop_words = set(stopwords.words('english'))\n",
    "df['stop_words_count'] = df['body'].apply(lambda x: len([word for word in x.lower().split() if word in stop_words]))\n",
    "\n",
    "# Average number of stop words\n",
    "print(f\"Average number of stop words: {df['stop_words_count'].mean()}\")"
   ]
  },
  {
   "cell_type": "code",
   "execution_count": 17,
   "metadata": {},
   "outputs": [],
   "source": [
    "# Set of English stop words\n",
    "stop_words = set(stopwords.words('english'))\n",
    "\n",
    "# Function to clean and remove stop words\n",
    "def remove_stop_words(text):\n",
    "    words = text.split()\n",
    "    filtered_words = [word for word in words if word.lower() not in stop_words]\n",
    "    return \" \".join(filtered_words)\n",
    "\n",
    "# Apply the function to the 'body' column\n",
    "df['filtered_body'] = df['body'].apply(remove_stop_words)\n",
    "\n",
    "# Tokenize words in the filtered body\n",
    "filtered_words = ' '.join(df['filtered_body']).split()\n"
   ]
  },
  {
   "cell_type": "code",
   "execution_count": 18,
   "metadata": {},
   "outputs": [
    {
     "name": "stdout",
     "output_type": "stream",
     "text": [
      "[('like', 239190), ('would', 204981), ('get', 165458), ('think', 132849), ('one', 118137), ('want', 116647), ('people', 114502), ('NTA', 114300), ('know', 108126), ('even', 105735)]\n"
     ]
    }
   ],
   "source": [
    "# Frequency distribution of filtered words\n",
    "freq_dist_filtered = FreqDist(filtered_words)\n",
    "\n",
    "# Print the 10 most common words\n",
    "print(freq_dist_filtered.most_common(10))\n"
   ]
  },
  {
   "cell_type": "code",
   "execution_count": 19,
   "metadata": {},
   "outputs": [],
   "source": [
    "import matplotlib.pyplot as plt\n",
    "from nltk import FreqDist\n",
    "\n",
    "# Get the 10 most common words and their frequencies\n",
    "common_words = freq_dist_filtered.most_common(10)\n",
    "\n",
    "# Create a DataFrame from the most common words\n",
    "df_common_words = pd.DataFrame(common_words, columns=['Word', 'Frequency'])\n"
   ]
  },
  {
   "cell_type": "code",
   "execution_count": 20,
   "metadata": {},
   "outputs": [
    {
     "data": {
      "image/png": "[encoded data removed]",
      "text/plain": [
       "<Figure size 720x432 with 1 Axes>"
      ]
     },
     "metadata": {
      "needs_background": "light"
     },
     "output_type": "display_data"
    }
   ],
   "source": [
    "# Set up the matplotlib figure\n",
    "plt.figure(figsize=(10, 6))\n",
    "\n",
    "# Plot bar chart\n",
    "sns.barplot(x='Frequency', y='Word', data=df_common_words, palette='viridis')\n",
    "\n",
    "# Add chart labels and title\n",
    "plt.xlabel('Frequency')\n",
    "plt.ylabel('Words')\n",
    "plt.title('Top 10 Most Common Words')\n",
    "plt.xticks(rotation=45)\n",
    "plt.show()\n"
   ]
  }
 ],
 "metadata": {
  "kernelspec": {
   "display_name": "Python 3",
   "language": "python",
   "name": "python3"
  },
  "language_info": {
   "codemirror_mode": {
    "name": "ipython",
    "version": 3
   },
   "file_extension": ".py",
   "mimetype": "text/x-python",
   "name": "python",
   "nbconvert_exporter": "python",
   "pygments_lexer": "ipython3",
   "version": "3.10.1"
  }
 },
 "nbformat": 4,
 "nbformat_minor": 2
}
